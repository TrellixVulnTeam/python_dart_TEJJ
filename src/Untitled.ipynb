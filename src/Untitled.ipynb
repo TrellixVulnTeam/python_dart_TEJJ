{
 "cells": [
  {
   "cell_type": "code",
   "execution_count": 4,
   "metadata": {},
   "outputs": [
    {
     "name": "stderr",
     "output_type": "stream",
     "text": [
      "Save files: 100%|██████████| 34/34 [00:00<00:00, 2898.56page/s]\n",
      "                                                        \r"
     ]
    }
   ],
   "source": [
    "# -*- coding: utf-8 -*-\n",
    "import dart_fss as dart\n",
    "api_key='fcb0b5b6663759936ad3c7dbf488b1ead9459fd0'\n",
    "dart.dart_set_api_key(api_key)\n",
    "\n",
    "crp_list = dart.get_crp_list() # default 모든 시장\n",
    "samsung_electronics = crp_list.find_by_name('삼성전자')[0] # 리스트 반환\n",
    "\n",
    "# 오늘 공시된 전자공시 조회\n",
    "today = dart.search_report() \n",
    "\n",
    "# 특정기간 검색 (3개월 이내)\n",
    "reports = dart.search_report(start_dt='20190101',end_dt='20190201')\n",
    "reports.page_no = 2     # 2번째 페이지로 이동\n",
    "reports.next_page()     # 다음 페이지로 이동\n",
    "reports.prev_page()     # 이전 페이지로 이동\n",
    "\n",
    "# 특정회사 검색 \n",
    "reports = dart.search_report(crp_cd='000660', start_dt='20190101') # 하이닉스\n",
    "# 또는\n",
    "reports = samsung_electronics.search_report(start_dt='20190101')\n",
    "\n",
    "# 검색결과 필터링\n",
    "reports = reports.filter(bsn_tp='a001') # 연말보고서만 출력\n",
    "\n",
    "annual_report = reports[0] # 2019년 사업보고서\n",
    "annual_report.pages # 2019년 사업보고서 Page List 출력\n",
    "\n",
    "# 3번째 페이지 조회\n",
    "page = annual_report[3]\n",
    "\n",
    "# 3번째 페이지의 HTML \n",
    "html = page.html\n",
    "\n",
    "annual_report.to_file(r'annual_report_2019') # C:\\annual_report_2019에 사업보고서 저장(html 파일 형태로 파일별로 저장)\n",
    "\n",
    "# \"연결재무제표\" 포함, \"주석\" 미포함 페이지만 로딩\n",
    "annual_report.load_page(includes=\"연결재무제표\", excludes=\"주석\")\n",
    "\n",
    "\n",
    "# 전지공시 조회 (캐싱기능 사용)\n",
    "# 최대 캐싱 시간(분, 기본설정 30분)\n",
    "dart.search.MAX_CACHED_MINUTES = 10 \n",
    "# 최대 캐싱 검새결과 수(기본 4)\n",
    "dart.search.MAX_CACHED_SEARCH_RESULTS = 2 \n",
    "\n",
    "# 전지공시 조회 (캐싱기능 사용)\n",
    "cached_reports = dart.search.search_report_with_cache(start_dt='20190101', end_dt='20190201')"
   ]
  },
  {
   "cell_type": "code",
   "execution_count": 4,
   "metadata": {},
   "outputs": [
    {
     "data": {
      "text/plain": [
       "'/home/se_heon/dart_project/src'"
      ]
     },
     "execution_count": 4,
     "metadata": {},
     "output_type": "execute_result"
    }
   ],
   "source": [
    "pwd"
   ]
  },
  {
   "cell_type": "code",
   "execution_count": 3,
   "metadata": {},
   "outputs": [
    {
     "name": "stdout",
     "output_type": "stream",
     "text": [
      "\u001b[0m\u001b[01;34mannual_report_2019\u001b[0m/          dart_practice.py\r\n",
      "dart_practice_example.ipynb  Untitled.ipynb\r\n"
     ]
    }
   ],
   "source": [
    "ls"
   ]
  },
  {
   "cell_type": "code",
   "execution_count": 95,
   "metadata": {},
   "outputs": [],
   "source": [
    "folder_directory='/home/se_heon/dart_project/src/annual_report_2019/'\n",
    "file_name='10_II.사업의내용.html'\n",
    "file_directory=folder_directory+file_name"
   ]
  },
  {
   "cell_type": "code",
   "execution_count": 96,
   "metadata": {},
   "outputs": [],
   "source": [
    "import pandas as pd\n",
    "import numpy as np\n",
    "html=pd.read_html(file_directory,'총매출액')\n",
    "#display(html[0])\n",
    "target_dataframe=html[0]"
   ]
  },
  {
   "cell_type": "code",
   "execution_count": 97,
   "metadata": {},
   "outputs": [],
   "source": [
    "table_get=(target_dataframe['구 분']=='순매출액')\n",
    "html_modi=target_dataframe[table_get['구 분']]"
   ]
  },
  {
   "cell_type": "code",
   "execution_count": 98,
   "metadata": {},
   "outputs": [
    {
     "data": {
      "text/html": [
       "<div>\n",
       "<style scoped>\n",
       "    .dataframe tbody tr th:only-of-type {\n",
       "        vertical-align: middle;\n",
       "    }\n",
       "\n",
       "    .dataframe tbody tr th {\n",
       "        vertical-align: top;\n",
       "    }\n",
       "\n",
       "    .dataframe thead tr th {\n",
       "        text-align: left;\n",
       "    }\n",
       "</style>\n",
       "<table border=\"1\" class=\"dataframe\">\n",
       "  <thead>\n",
       "    <tr>\n",
       "      <th></th>\n",
       "      <th colspan=\"2\" halign=\"left\">부문</th>\n",
       "      <th>구 분</th>\n",
       "      <th colspan=\"2\" halign=\"left\">제50기</th>\n",
       "      <th colspan=\"2\" halign=\"left\">제49기</th>\n",
       "      <th colspan=\"2\" halign=\"left\">제48기</th>\n",
       "    </tr>\n",
       "    <tr>\n",
       "      <th></th>\n",
       "      <th>부문</th>\n",
       "      <th>부문.1</th>\n",
       "      <th>구 분</th>\n",
       "      <th>금액</th>\n",
       "      <th>비중</th>\n",
       "      <th>금액</th>\n",
       "      <th>비중</th>\n",
       "      <th>금액</th>\n",
       "      <th>비중</th>\n",
       "    </tr>\n",
       "  </thead>\n",
       "  <tbody>\n",
       "    <tr>\n",
       "      <th>2</th>\n",
       "      <td>CE부문</td>\n",
       "      <td>CE부문</td>\n",
       "      <td>순매출액</td>\n",
       "      <td>42107405</td>\n",
       "      <td>17.3%</td>\n",
       "      <td>44601347</td>\n",
       "      <td>18.6%</td>\n",
       "      <td>44680255</td>\n",
       "      <td>22.1%</td>\n",
       "    </tr>\n",
       "    <tr>\n",
       "      <th>7</th>\n",
       "      <td>IM부문</td>\n",
       "      <td>IM부문</td>\n",
       "      <td>순매출액</td>\n",
       "      <td>100677677</td>\n",
       "      <td>41.3%</td>\n",
       "      <td>106668318</td>\n",
       "      <td>44.5%</td>\n",
       "      <td>100302112</td>\n",
       "      <td>49.7%</td>\n",
       "    </tr>\n",
       "    <tr>\n",
       "      <th>12</th>\n",
       "      <td>DS부문</td>\n",
       "      <td>반도체</td>\n",
       "      <td>순매출액</td>\n",
       "      <td>86290962</td>\n",
       "      <td>35.4%</td>\n",
       "      <td>74255595</td>\n",
       "      <td>31.0%</td>\n",
       "      <td>51157002</td>\n",
       "      <td>25.3%</td>\n",
       "    </tr>\n",
       "    <tr>\n",
       "      <th>17</th>\n",
       "      <td>DS부문</td>\n",
       "      <td>DP</td>\n",
       "      <td>순매출액</td>\n",
       "      <td>32465019</td>\n",
       "      <td>13.3%</td>\n",
       "      <td>34465363</td>\n",
       "      <td>14.4%</td>\n",
       "      <td>26928644</td>\n",
       "      <td>13.3%</td>\n",
       "    </tr>\n",
       "    <tr>\n",
       "      <th>22</th>\n",
       "      <td>DS부문</td>\n",
       "      <td>계</td>\n",
       "      <td>순매출액</td>\n",
       "      <td>118565559</td>\n",
       "      <td>48.6%</td>\n",
       "      <td>108167480</td>\n",
       "      <td>45.1%</td>\n",
       "      <td>78148203</td>\n",
       "      <td>38.7%</td>\n",
       "    </tr>\n",
       "    <tr>\n",
       "      <th>27</th>\n",
       "      <td>Harman 부문</td>\n",
       "      <td>Harman 부문</td>\n",
       "      <td>순매출액</td>\n",
       "      <td>8843739</td>\n",
       "      <td>3.6%</td>\n",
       "      <td>7102629</td>\n",
       "      <td>3.0%</td>\n",
       "      <td>-</td>\n",
       "      <td>-</td>\n",
       "    </tr>\n",
       "  </tbody>\n",
       "</table>\n",
       "</div>"
      ],
      "text/plain": [
       "           부문              구 분       제50기              제49기              제48기  \\\n",
       "           부문       부문.1   구 분         금액     비중         금액     비중         금액   \n",
       "2        CE부문       CE부문  순매출액   42107405  17.3%   44601347  18.6%   44680255   \n",
       "7        IM부문       IM부문  순매출액  100677677  41.3%  106668318  44.5%  100302112   \n",
       "12       DS부문        반도체  순매출액   86290962  35.4%   74255595  31.0%   51157002   \n",
       "17       DS부문         DP  순매출액   32465019  13.3%   34465363  14.4%   26928644   \n",
       "22       DS부문          계  순매출액  118565559  48.6%  108167480  45.1%   78148203   \n",
       "27  Harman 부문  Harman 부문  순매출액    8843739   3.6%    7102629   3.0%          -   \n",
       "\n",
       "           \n",
       "       비중  \n",
       "2   22.1%  \n",
       "7   49.7%  \n",
       "12  25.3%  \n",
       "17  13.3%  \n",
       "22  38.7%  \n",
       "27      -  "
      ]
     },
     "execution_count": 98,
     "metadata": {},
     "output_type": "execute_result"
    }
   ],
   "source": [
    "html_modi"
   ]
  },
  {
   "cell_type": "code",
   "execution_count": 99,
   "metadata": {},
   "outputs": [],
   "source": [
    "target_name_column_join='부문'\n",
    "target_name_first_column=html_modi[target_name_column_join].columns[0]\n",
    "target_name_second_column=html_modi[target_name_column_join].columns[1]\n",
    "result_name_column_join= target_name_first_column+' - '+ target_name_second_column\n",
    "list_category=[]\n",
    "dataframe_for_target_column=pd.DataFrame()\n",
    "size_indice=html_modi.index.size\n",
    "#html_modi[target_name_column_join][target_name_first_column].iloc[0] + html_modi[target_name_column_join][target_name_second_column].iloc[0]"
   ]
  },
  {
   "cell_type": "code",
   "execution_count": 100,
   "metadata": {},
   "outputs": [
    {
     "data": {
      "text/plain": [
       "['CE부문 - CE부문',\n",
       " 'IM부문 - IM부문',\n",
       " 'DS부문 - 반도체',\n",
       " 'DS부문 - DP',\n",
       " 'DS부문 - 계',\n",
       " 'Harman 부문 - Harman 부문']"
      ]
     },
     "execution_count": 100,
     "metadata": {},
     "output_type": "execute_result"
    }
   ],
   "source": [
    "for index in range(size_indice):\n",
    "    string=html_modi[target_name_column_join][target_name_first_column].iloc[index]+' - ' +html_modi[target_name_column_join][target_name_second_column].iloc[index]\n",
    "    list_category.append(string)\n",
    "#dataframe_for_target_column.insert(column=result_name_column_join)\n",
    "list_category"
   ]
  },
  {
   "cell_type": "code",
   "execution_count": 101,
   "metadata": {},
   "outputs": [],
   "source": [
    "dataframe_for_target_column[result_name_column_join]=list_category"
   ]
  },
  {
   "cell_type": "code",
   "execution_count": 102,
   "metadata": {},
   "outputs": [
    {
     "data": {
      "text/html": [
       "<div>\n",
       "<style scoped>\n",
       "    .dataframe tbody tr th:only-of-type {\n",
       "        vertical-align: middle;\n",
       "    }\n",
       "\n",
       "    .dataframe tbody tr th {\n",
       "        vertical-align: top;\n",
       "    }\n",
       "\n",
       "    .dataframe thead th {\n",
       "        text-align: right;\n",
       "    }\n",
       "</style>\n",
       "<table border=\"1\" class=\"dataframe\">\n",
       "  <thead>\n",
       "    <tr style=\"text-align: right;\">\n",
       "      <th></th>\n",
       "      <th>부문 - 부문.1</th>\n",
       "    </tr>\n",
       "  </thead>\n",
       "  <tbody>\n",
       "    <tr>\n",
       "      <th>0</th>\n",
       "      <td>CE부문 - CE부문</td>\n",
       "    </tr>\n",
       "    <tr>\n",
       "      <th>1</th>\n",
       "      <td>IM부문 - IM부문</td>\n",
       "    </tr>\n",
       "    <tr>\n",
       "      <th>2</th>\n",
       "      <td>DS부문 - 반도체</td>\n",
       "    </tr>\n",
       "    <tr>\n",
       "      <th>3</th>\n",
       "      <td>DS부문 - DP</td>\n",
       "    </tr>\n",
       "    <tr>\n",
       "      <th>4</th>\n",
       "      <td>DS부문 - 계</td>\n",
       "    </tr>\n",
       "    <tr>\n",
       "      <th>5</th>\n",
       "      <td>Harman 부문 - Harman 부문</td>\n",
       "    </tr>\n",
       "  </tbody>\n",
       "</table>\n",
       "</div>"
      ],
      "text/plain": [
       "               부문 - 부문.1\n",
       "0            CE부문 - CE부문\n",
       "1            IM부문 - IM부문\n",
       "2             DS부문 - 반도체\n",
       "3              DS부문 - DP\n",
       "4               DS부문 - 계\n",
       "5  Harman 부문 - Harman 부문"
      ]
     },
     "execution_count": 102,
     "metadata": {},
     "output_type": "execute_result"
    }
   ],
   "source": [
    "dataframe_for_target_column"
   ]
  },
  {
   "cell_type": "code",
   "execution_count": 103,
   "metadata": {},
   "outputs": [
    {
     "name": "stdout",
     "output_type": "stream",
     "text": [
      "('부문', '부문')\n",
      "('부문', '부문.1')\n",
      "('구 분', '구 분')\n"
     ]
    },
    {
     "data": {
      "text/plain": [
       "3"
      ]
     },
     "execution_count": 103,
     "metadata": {},
     "output_type": "execute_result"
    }
   ],
   "source": [
    "html_modi_copy=pd.DataFrame()\n",
    "index_column=0\n",
    "for i in html_modi.columns:\n",
    "    #print(i)\n",
    "    if i[0] == '구 분':\n",
    "      refer_column=index_column\n",
    "      start_column = refer_column + 1\n",
    "      break\n",
    "    index_column=index_column +1\n",
    "\n",
    "#start_column\n",
    "start_column=index_column"
   ]
  },
  {
   "cell_type": "code",
   "execution_count": 104,
   "metadata": {},
   "outputs": [
    {
     "data": {
      "text/html": [
       "<div>\n",
       "<style scoped>\n",
       "    .dataframe tbody tr th:only-of-type {\n",
       "        vertical-align: middle;\n",
       "    }\n",
       "\n",
       "    .dataframe tbody tr th {\n",
       "        vertical-align: top;\n",
       "    }\n",
       "\n",
       "    .dataframe thead tr th {\n",
       "        text-align: left;\n",
       "    }\n",
       "</style>\n",
       "<table border=\"1\" class=\"dataframe\">\n",
       "  <thead>\n",
       "    <tr>\n",
       "      <th></th>\n",
       "      <th colspan=\"2\" halign=\"left\">제50기</th>\n",
       "      <th colspan=\"2\" halign=\"left\">제49기</th>\n",
       "      <th>제48기</th>\n",
       "    </tr>\n",
       "    <tr>\n",
       "      <th></th>\n",
       "      <th>금액</th>\n",
       "      <th>비중</th>\n",
       "      <th>금액</th>\n",
       "      <th>비중</th>\n",
       "      <th>금액</th>\n",
       "    </tr>\n",
       "  </thead>\n",
       "  <tbody>\n",
       "    <tr>\n",
       "      <th>2</th>\n",
       "      <td>42107405</td>\n",
       "      <td>17.3%</td>\n",
       "      <td>44601347</td>\n",
       "      <td>18.6%</td>\n",
       "      <td>44680255</td>\n",
       "    </tr>\n",
       "    <tr>\n",
       "      <th>7</th>\n",
       "      <td>100677677</td>\n",
       "      <td>41.3%</td>\n",
       "      <td>106668318</td>\n",
       "      <td>44.5%</td>\n",
       "      <td>100302112</td>\n",
       "    </tr>\n",
       "    <tr>\n",
       "      <th>12</th>\n",
       "      <td>86290962</td>\n",
       "      <td>35.4%</td>\n",
       "      <td>74255595</td>\n",
       "      <td>31.0%</td>\n",
       "      <td>51157002</td>\n",
       "    </tr>\n",
       "    <tr>\n",
       "      <th>17</th>\n",
       "      <td>32465019</td>\n",
       "      <td>13.3%</td>\n",
       "      <td>34465363</td>\n",
       "      <td>14.4%</td>\n",
       "      <td>26928644</td>\n",
       "    </tr>\n",
       "    <tr>\n",
       "      <th>22</th>\n",
       "      <td>118565559</td>\n",
       "      <td>48.6%</td>\n",
       "      <td>108167480</td>\n",
       "      <td>45.1%</td>\n",
       "      <td>78148203</td>\n",
       "    </tr>\n",
       "    <tr>\n",
       "      <th>27</th>\n",
       "      <td>8843739</td>\n",
       "      <td>3.6%</td>\n",
       "      <td>7102629</td>\n",
       "      <td>3.0%</td>\n",
       "      <td>-</td>\n",
       "    </tr>\n",
       "  </tbody>\n",
       "</table>\n",
       "</div>"
      ],
      "text/plain": [
       "         제50기              제49기              제48기\n",
       "           금액     비중         금액     비중         금액\n",
       "2    42107405  17.3%   44601347  18.6%   44680255\n",
       "7   100677677  41.3%  106668318  44.5%  100302112\n",
       "12   86290962  35.4%   74255595  31.0%   51157002\n",
       "17   32465019  13.3%   34465363  14.4%   26928644\n",
       "22  118565559  48.6%  108167480  45.1%   78148203\n",
       "27    8843739   3.6%    7102629   3.0%          -"
      ]
     },
     "execution_count": 104,
     "metadata": {},
     "output_type": "execute_result"
    }
   ],
   "source": [
    "html_modi.iloc[:,start_column:-1]"
   ]
  },
  {
   "cell_type": "code",
   "execution_count": 172,
   "metadata": {},
   "outputs": [],
   "source": [
    "set_periods=set()\n",
    "## set creation for storing target periods\n",
    "for top_column_cate in html_modi.iloc[:,start_column:-1]:\n",
    "    set_periods.add(top_column_cate[0])"
   ]
  },
  {
   "cell_type": "code",
   "execution_count": 173,
   "metadata": {},
   "outputs": [
    {
     "data": {
      "text/plain": [
       "['제50기', '제49기', '제48기']"
      ]
     },
     "execution_count": 173,
     "metadata": {},
     "output_type": "execute_result"
    }
   ],
   "source": [
    "set_periods_sorted=sorted(set_periods, reverse=True)\n",
    "set_periods_sorted"
   ]
  },
  {
   "cell_type": "code",
   "execution_count": 179,
   "metadata": {},
   "outputs": [],
   "source": [
    "## target search keyword setting\n",
    "target_search_keyword='금액'"
   ]
  },
  {
   "cell_type": "code",
   "execution_count": 204,
   "metadata": {},
   "outputs": [
    {
     "data": {
      "text/html": [
       "<div>\n",
       "<style scoped>\n",
       "    .dataframe tbody tr th:only-of-type {\n",
       "        vertical-align: middle;\n",
       "    }\n",
       "\n",
       "    .dataframe tbody tr th {\n",
       "        vertical-align: top;\n",
       "    }\n",
       "\n",
       "    .dataframe thead th {\n",
       "        text-align: right;\n",
       "    }\n",
       "</style>\n",
       "<table border=\"1\" class=\"dataframe\">\n",
       "  <thead>\n",
       "    <tr style=\"text-align: right;\">\n",
       "      <th></th>\n",
       "      <th>제50기</th>\n",
       "      <th>제49기</th>\n",
       "      <th>제48기</th>\n",
       "    </tr>\n",
       "  </thead>\n",
       "  <tbody>\n",
       "    <tr>\n",
       "      <th>2</th>\n",
       "      <td>42107405</td>\n",
       "      <td>44601347</td>\n",
       "      <td>44680255</td>\n",
       "    </tr>\n",
       "    <tr>\n",
       "      <th>7</th>\n",
       "      <td>100677677</td>\n",
       "      <td>106668318</td>\n",
       "      <td>100302112</td>\n",
       "    </tr>\n",
       "    <tr>\n",
       "      <th>12</th>\n",
       "      <td>86290962</td>\n",
       "      <td>74255595</td>\n",
       "      <td>51157002</td>\n",
       "    </tr>\n",
       "    <tr>\n",
       "      <th>17</th>\n",
       "      <td>32465019</td>\n",
       "      <td>34465363</td>\n",
       "      <td>26928644</td>\n",
       "    </tr>\n",
       "    <tr>\n",
       "      <th>22</th>\n",
       "      <td>118565559</td>\n",
       "      <td>108167480</td>\n",
       "      <td>78148203</td>\n",
       "    </tr>\n",
       "    <tr>\n",
       "      <th>27</th>\n",
       "      <td>8843739</td>\n",
       "      <td>7102629</td>\n",
       "      <td>0</td>\n",
       "    </tr>\n",
       "  </tbody>\n",
       "</table>\n",
       "</div>"
      ],
      "text/plain": [
       "         제50기       제49기       제48기\n",
       "2    42107405   44601347   44680255\n",
       "7   100677677  106668318  100302112\n",
       "12   86290962   74255595   51157002\n",
       "17   32465019   34465363   26928644\n",
       "22  118565559  108167480   78148203\n",
       "27    8843739    7102629          0"
      ]
     },
     "execution_count": 204,
     "metadata": {},
     "output_type": "execute_result"
    }
   ],
   "source": [
    "## create dataframe by using target search keyword\n",
    "temp_df=pd.DataFrame()\n",
    "for period in set_periods_sorted:\n",
    "    temp_df[period]=html_modi.iloc[:,start_column:-1][period][target_search_keyword]\n",
    "    #print(temp_df[period])\n",
    "    temp_df[period]=temp_df[period].replace('-','0')\n",
    "    temp_df[period]=pd.to_numeric(temp_df[period])\n",
    "    \n",
    "temp_df"
   ]
  },
  {
   "cell_type": "code",
   "execution_count": 210,
   "metadata": {},
   "outputs": [],
   "source": [
    "## check temp df created\n",
    "temp_df.reset_index(inplace=True)\n",
    "temp_df\n",
    "temp_df=temp_df.drop(columns=['index'])"
   ]
  },
  {
   "cell_type": "code",
   "execution_count": 211,
   "metadata": {},
   "outputs": [
    {
     "data": {
      "text/plain": [
       "numpy.int64"
      ]
     },
     "execution_count": 211,
     "metadata": {},
     "output_type": "execute_result"
    }
   ],
   "source": [
    "#\n",
    "new_df=pd.merge(dataframe_for_target_column,temp_df,how='outer', left_index=True, right_index= True)\n",
    "type(new_df['제48기'][0])"
   ]
  },
  {
   "cell_type": "code",
   "execution_count": 212,
   "metadata": {},
   "outputs": [],
   "source": [
    "#convert string values in columns into int"
   ]
  },
  {
   "cell_type": "code",
   "execution_count": 213,
   "metadata": {},
   "outputs": [
    {
     "data": {
      "text/plain": [
       "<matplotlib.axes._subplots.AxesSubplot at 0x7f453a6fce48>"
      ]
     },
     "execution_count": 213,
     "metadata": {},
     "output_type": "execute_result"
    },
    {
     "data": {
      "image/png": "[encoded data removed]",
      "text/plain": [
       "<Figure size 432x288 with 1 Axes>"
      ]
     },
     "metadata": {
      "needs_background": "light"
     },
     "output_type": "display_data"
    }
   ],
   "source": [
    "new_df.plot(x='부문 - 부문.1',kind='bar')"
   ]
  },
  {
   "cell_type": "code",
   "execution_count": null,
   "metadata": {},
   "outputs": [],
   "source": []
  }
 ],
 "metadata": {
  "kernelspec": {
   "display_name": "venv",
   "language": "python",
   "name": "venv"
  },
  "language_info": {
   "codemirror_mode": {
    "name": "ipython",
    "version": 3
   },
   "file_extension": ".py",
   "mimetype": "text/x-python",
   "name": "python",
   "nbconvert_exporter": "python",
   "pygments_lexer": "ipython3",
   "version": "3.6.7"
  }
 },
 "nbformat": 4,
 "nbformat_minor": 2
}
