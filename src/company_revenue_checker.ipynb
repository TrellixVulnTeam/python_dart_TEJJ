{
 "cells": [
  {
   "cell_type": "markdown",
   "metadata": {},
   "source": [
    "## __Font Setting__"
   ]
  },
  {
   "cell_type": "code",
   "execution_count": 117,
   "metadata": {},
   "outputs": [],
   "source": [
    "# -*- coding: utf-8 -*-\n",
    "import matplotlib.font_manager as fm\n",
    "import matplotlib\n",
    "import pandas as pd\n",
    "font_location='/usr/share/fonts/truetype/nanum/NanumGothicExtraBold.ttf'\n",
    "font_name=fm.FontProperties(fname=font_location).get_name()\n",
    "#print(font_name)\n",
    "matplotlib.rc('font', family=font_name)\n",
    "#matplotlib.matplotlib_fname()\n",
    "company_name='롯데정밀화학'\n",
    "target_label='영업이익(손실)'"
   ]
  },
  {
   "cell_type": "markdown",
   "metadata": {},
   "source": [
    "## DART API connect"
   ]
  },
  {
   "cell_type": "code",
   "execution_count": 118,
   "metadata": {},
   "outputs": [],
   "source": [
    "import dart_fss as dart\n",
    "api_key='fcb0b5b6663759936ad3c7dbf488b1ead9459fd0'\n",
    "dart.dart_set_api_key(api_key=api_key)\n",
    "crp_list=dart.get_crp_list()\n"
   ]
  },
  {
   "cell_type": "markdown",
   "metadata": {},
   "source": [
    "## Company matching"
   ]
  },
  {
   "cell_type": "code",
   "execution_count": 119,
   "metadata": {},
   "outputs": [
    {
     "data": {
      "text/plain": [
       "[[004000]롯데정밀화학]"
      ]
     },
     "execution_count": 119,
     "metadata": {},
     "output_type": "execute_result"
    }
   ],
   "source": [
    "company_list=crp_list.find_by_name(company_name)\n",
    "company_list"
   ]
  },
  {
   "cell_type": "code",
   "execution_count": 120,
   "metadata": {},
   "outputs": [],
   "source": [
    "company_crp=crp_list.find_by_crp_cd('004000')"
   ]
  },
  {
   "cell_type": "markdown",
   "metadata": {},
   "source": [
    "## Download Reports from DART"
   ]
  },
  {
   "cell_type": "code",
   "execution_count": 121,
   "metadata": {},
   "outputs": [],
   "source": [
    "#fs_annual = samsung_electronics.get_financial_statement(start_dt='20180101')"
   ]
  },
  {
   "cell_type": "code",
   "execution_count": 122,
   "metadata": {},
   "outputs": [
    {
     "name": "stdout",
     "output_type": "stream",
     "text": [
      "[004000]롯데정밀화학\n"
     ]
    }
   ],
   "source": [
    "print(company_crp)"
   ]
  },
  {
   "cell_type": "code",
   "execution_count": 123,
   "metadata": {},
   "outputs": [
    {
     "data": {
      "application/vnd.jupyter.widget-view+json": {
       "model_id": "1db25dc28dba4900b438c76249d6348a",
       "version_major": 2,
       "version_minor": 0
      },
      "text/plain": [
       "Output()"
      ]
     },
     "metadata": {},
     "output_type": "display_data"
    },
    {
     "data": {
      "application/vnd.jupyter.widget-view+json": {
       "model_id": "eb1fee48e21d4df58ce4f72cc8136290",
       "version_major": 2,
       "version_minor": 0
      },
      "text/plain": [
       "Output()"
      ]
     },
     "metadata": {},
     "output_type": "display_data"
    },
    {
     "data": {
      "application/vnd.jupyter.widget-view+json": {
       "model_id": "f0b7089850ce417fa35b67a1a24b3b8c",
       "version_major": 2,
       "version_minor": 0
      },
      "text/plain": [
       "HBox(children=(IntProgress(value=0, description='Annual reports', max=8, style=ProgressStyle(description_width…"
      ]
     },
     "metadata": {},
     "output_type": "display_data"
    },
    {
     "name": "stdout",
     "output_type": "stream",
     "text": [
      "\n"
     ]
    }
   ],
   "source": [
    "df = company_crp.get_financial_statement(start_dt='20120101')"
   ]
  },
  {
   "cell_type": "code",
   "execution_count": 124,
   "metadata": {},
   "outputs": [],
   "source": [
    "#is 연결손익계산서, ci 연결포괄손익계산서\n",
    "is_annual=df['is']"
   ]
  },
  {
   "cell_type": "code",
   "execution_count": 125,
   "metadata": {},
   "outputs": [],
   "source": [
    "if (is_annual is None):\n",
    "    is_annual=df['ci']"
   ]
  },
  {
   "cell_type": "code",
   "execution_count": 126,
   "metadata": {},
   "outputs": [],
   "source": [
    "#with pd.option_context(\"display.max_rows\", 1000):\n",
    "#display(is_annual)"
   ]
  },
  {
   "cell_type": "markdown",
   "metadata": {},
   "source": [
    "## Get '영업손실' Index"
   ]
  },
  {
   "cell_type": "code",
   "execution_count": 127,
   "metadata": {},
   "outputs": [],
   "source": [
    "try:\n",
    "    check_table=is_annual.iloc[:,1]==target_label\n",
    "    index=check_table[check_table].index[0]\n",
    "except IndexError:\n",
    "    target_label='영업이익'\n",
    "    check_table=is_annual.iloc[:,1]==target_label\n",
    "    index=check_table[check_table].index[0]"
   ]
  },
  {
   "cell_type": "markdown",
   "metadata": {},
   "source": [
    "## Get Years' Value Stored Location"
   ]
  },
  {
   "cell_type": "code",
   "execution_count": 128,
   "metadata": {},
   "outputs": [],
   "source": [
    "column_index=0\n",
    "for tuple_column in is_annual.columns:\n",
    "    if tuple_column[0].startswith('2'):\n",
    "        break\n",
    "    column_index=column_index+1"
   ]
  },
  {
   "cell_type": "markdown",
   "metadata": {},
   "source": [
    "## Get Area Interested in"
   ]
  },
  {
   "cell_type": "code",
   "execution_count": 129,
   "metadata": {},
   "outputs": [],
   "source": [
    "is_annual_modi=is_annual.iloc[index][column_index:]\n",
    "#is_annual_modi.index"
   ]
  },
  {
   "cell_type": "markdown",
   "metadata": {},
   "source": [
    "## Result series index modification"
   ]
  },
  {
   "cell_type": "code",
   "execution_count": 130,
   "metadata": {},
   "outputs": [],
   "source": [
    "index_array=[]\n",
    "for tu in is_annual_modi.index:\n",
    "    index_array.append(tu[0])\n",
    "\n",
    "is_annual_modi.index=index_array"
   ]
  },
  {
   "cell_type": "markdown",
   "metadata": {},
   "source": [
    "## string result convert to integer value"
   ]
  },
  {
   "cell_type": "code",
   "execution_count": 131,
   "metadata": {},
   "outputs": [],
   "source": [
    "is_annual_modi\n",
    "is_annual_modi=is_annual_modi.dropna()\n",
    "\n",
    "is_annual_modi=pd.to_numeric(is_annual_modi)\n",
    "is_annual_modi=is_annual_modi.dropna()"
   ]
  },
  {
   "cell_type": "markdown",
   "metadata": {},
   "source": [
    "## Unit Change from '원' to '조'"
   ]
  },
  {
   "cell_type": "code",
   "execution_count": 132,
   "metadata": {},
   "outputs": [],
   "source": [
    "is_annual_modi=is_annual_modi[:]/1000000000000"
   ]
  },
  {
   "cell_type": "markdown",
   "metadata": {},
   "source": [
    "## Draw Graph"
   ]
  },
  {
   "cell_type": "code",
   "execution_count": 133,
   "metadata": {},
   "outputs": [
    {
     "data": {
      "text/plain": [
       "([0, 1, 2, 3, 4, 5, 6, 7, 8], <a list of 9 Text xticklabel objects>)"
      ]
     },
     "execution_count": 133,
     "metadata": {},
     "output_type": "execute_result"
    },
    {
     "data": {
      "image/png": "[encoded data removed]",
      "text/plain": [
       "<Figure size 1080x720 with 1 Axes>"
      ]
     },
     "metadata": {
      "needs_background": "light"
     },
     "output_type": "display_data"
    }
   ],
   "source": [
    "import matplotlib.pyplot as plt\n",
    "plt.figure(figsize=(15,10))\n",
    "plt.plot(is_annual_modi)\n",
    "plt.xlabel('년도')\n",
    "plt.ylabel('조')\n",
    "plt.grid(True)\n",
    "plt.xticks(size=9)\n",
    "\n",
    "#is_annual_modi.plot(kind='line', title='test',figsize=(15,10) )"
   ]
  },
  {
   "cell_type": "code",
   "execution_count": null,
   "metadata": {},
   "outputs": [],
   "source": []
  }
 ],
 "metadata": {
  "kernelspec": {
   "display_name": "venv",
   "language": "python",
   "name": "venv"
  },
  "language_info": {
   "codemirror_mode": {
    "name": "ipython",
    "version": 3
   },
   "file_extension": ".py",
   "mimetype": "text/x-python",
   "name": "python",
   "nbconvert_exporter": "python",
   "pygments_lexer": "ipython3",
   "version": "3.6.7"
  }
 },
 "nbformat": 4,
 "nbformat_minor": 2
}
