{
 "cells": [
  {
   "cell_type": "code",
   "execution_count": 2,
   "metadata": {},
   "outputs": [
    {
     "data": {
      "text/plain": [
       "'fcb0b5b6663759936ad3c7dbf488b1ead9459fd0'"
      ]
     },
     "execution_count": 2,
     "metadata": {},
     "output_type": "execute_result"
    }
   ],
   "source": [
    "import dart_fss as dart\n",
    "api_key='fcb0b5b6663759936ad3c7dbf488b1ead9459fd0'\n",
    "dart.dart_set_api_key(api_key)"
   ]
  },
  {
   "cell_type": "code",
   "execution_count": 3,
   "metadata": {},
   "outputs": [],
   "source": [
    "from dart_fss import search_report"
   ]
  },
  {
   "cell_type": "code",
   "execution_count": 34,
   "metadata": {},
   "outputs": [
    {
     "data": {
      "text/plain": [
       "'<!DOCTYPE HTML PUBLIC \"-//W3C//DTD HTML 4.01 Transitional//EN\" \"http://www.w3.org/TR/html4/loose.dtd\">\\n\\n<html style=\"border:0\">\\n<head>\\n<title></title>\\n<meta content=\"IE=EmulateIE8\" http-equiv=\"X-UA-Compatible\"/>\\n<meta content=\"gdi\" http-equiv=\"X-UA-TextLayoutMetrics\"/>\\n<meta content=\"text/html; charset=utf-8\" http-equiv=\"Content-Type\"/>\\n<link href=\"http://dart.fss.or.kr/css/report_xml.css\" rel=\"stylesheet\" type=\"text/css\"/>\\n</head>\\n<body bgcolor=\"#FFFFFF\">\\n<p><br/></p>\\n<p class=\"section-2\"><a name=\"toc1\">6. 배당에 관한 사항 등</a></p>\\n<p><br/></p>\\n<p><span></span><span>당사는 주주이익 극대화를 전제로 하여 회사이익의 일정부분을 주주에게 환원하는 주요수단으로 배당 및 자사주매입을 실시하고 있습니다. 현금배당 및 자사주의 매입 규모는 향후 회사의 지속적인 성장을 위한 투자와 경영실적</span><span> 및 Cashflow 상황 등을 감안하여 전략적으로 결정하고 있습니다.</span><span><br/><br/></span><span>최근 3사업연도 배당에 관한 사항</span><br/>\\n</p>\\n<table border=\"1\" width=\"607\">\\n<colgroup>\\n<col width=\"161\"/>\\n<col width=\"113\"/>\\n<col width=\"111\"/>\\n<col width=\"111\"/>\\n<col width=\"111\"/>\\n</colgroup>\\n<thead>\\n<tr>\\n<th align=\"CENTER\" height=\"50\" rowspan=\"2\" width=\"161\">구 \\xa0 분</th>\\n<th align=\"CENTER\" height=\"50\" rowspan=\"2\" width=\"113\">주식의 종류</th>\\n<th align=\"CENTER\" height=\"20\" width=\"111\">당기</th>\\n<th align=\"CENTER\" height=\"20\" width=\"111\">전기</th>\\n<th align=\"CENTER\" height=\"20\" width=\"111\">전전기</th>\\n</tr>\\n<tr>\\n<th align=\"CENTER\" height=\"20\" width=\"111\">제49기</th>\\n<th align=\"CENTER\" height=\"20\" width=\"111\">제48기</th>\\n<th align=\"CENTER\" height=\"20\" width=\"111\">제47기</th>\\n</tr>\\n</thead>\\n<tbody>\\n<tr>\\n<td align=\"CENTER\" colspan=\"2\" height=\"20\" width=\"274\">주당액면가액(원)</td>\\n<td align=\"RIGHT\" height=\"20\" width=\"111\">5,000</td>\\n<td align=\"RIGHT\" height=\"20\" width=\"111\">5,000</td>\\n<td align=\"RIGHT\" height=\"20\" width=\"111\">5,000</td>\\n</tr>\\n<tr>\\n<td align=\"CENTER\" colspan=\"2\" height=\"20\" width=\"274\">(연결)당기순이익(백만원)</td>\\n<td align=\"RIGHT\" height=\"20\" width=\"111\">41,344,569</td>\\n<td align=\"RIGHT\" height=\"20\" width=\"111\">22,415,655</td>\\n<td align=\"RIGHT\" height=\"20\" width=\"111\">18,694,628</td>\\n</tr>\\n<tr>\\n<td align=\"CENTER\" colspan=\"2\" height=\"20\" width=\"274\">(별도)당기순이익(백만원)</td>\\n<td align=\"RIGHT\" height=\"20\" width=\"111\">28,800,837</td>\\n<td align=\"RIGHT\" height=\"20\" width=\"111\">11,579,749</td>\\n<td align=\"RIGHT\" height=\"20\" width=\"111\">12,238,469</td>\\n</tr>\\n<tr>\\n<td align=\"CENTER\" colspan=\"2\" height=\"20\" width=\"274\">(연결)주당순이익(원)</td>\\n<td align=\"RIGHT\" height=\"20\" width=\"111\">299,868</td>\\n<td align=\"RIGHT\" height=\"20\" width=\"111\">157,967</td>\\n<td align=\"RIGHT\" height=\"20\" width=\"111\">126,305</td>\\n</tr>\\n<tr>\\n<td align=\"CENTER\" colspan=\"2\" height=\"20\" width=\"274\">현금배당금총액(백만원)</td>\\n<td align=\"RIGHT\" height=\"20\" width=\"111\">5,826,302</td>\\n<td align=\"RIGHT\" height=\"20\" width=\"111\">3,991,892</td>\\n<td align=\"RIGHT\" height=\"20\" width=\"111\">3,068,737</td>\\n</tr>\\n<tr>\\n<td align=\"CENTER\" colspan=\"2\" height=\"20\" width=\"274\">주식배당금총액(백만원)</td>\\n<td align=\"RIGHT\" height=\"20\" width=\"111\">-</td>\\n<td align=\"RIGHT\" height=\"20\" width=\"111\">-</td>\\n<td align=\"RIGHT\" height=\"20\" width=\"111\">-</td>\\n</tr>\\n<tr>\\n<td align=\"CENTER\" colspan=\"2\" height=\"20\" width=\"274\">(연결)현금배당성향(%)</td>\\n<td align=\"RIGHT\" height=\"20\" width=\"111\">14.1</td>\\n<td align=\"RIGHT\" height=\"20\" width=\"111\">17.8</td>\\n<td align=\"RIGHT\" height=\"20\" width=\"111\">16.4</td>\\n</tr>\\n<tr>\\n<td align=\"CENTER\" height=\"50\" rowspan=\"2\" width=\"161\">현금배당수익률(%)</td>\\n<td align=\"CENTER\" height=\"20\" width=\"113\">보통주</td>\\n<td align=\"RIGHT\" height=\"20\" width=\"111\">1.7</td>\\n<td align=\"RIGHT\" height=\"20\" width=\"111\">1.6</td>\\n<td align=\"RIGHT\" height=\"20\" width=\"111\">1.6</td>\\n</tr>\\n<tr>\\n<td align=\"CENTER\" height=\"20\" width=\"113\">우선주</td>\\n<td align=\"RIGHT\" height=\"20\" width=\"111\">2.1</td>\\n<td align=\"RIGHT\" height=\"20\" width=\"111\">2.0</td>\\n<td align=\"RIGHT\" height=\"20\" width=\"111\">1.9</td>\\n</tr>\\n<tr>\\n<td align=\"CENTER\" height=\"50\" rowspan=\"2\" width=\"161\">주식배당수익률(%)</td>\\n<td align=\"CENTER\" height=\"20\" width=\"113\">보통주</td>\\n<td align=\"RIGHT\" height=\"20\" width=\"111\">-</td>\\n<td align=\"RIGHT\" height=\"20\" width=\"111\">-</td>\\n<td align=\"RIGHT\" height=\"20\" width=\"111\">-</td>\\n</tr>\\n<tr>\\n<td align=\"CENTER\" height=\"20\" width=\"113\">우선주</td>\\n<td align=\"RIGHT\" height=\"20\" width=\"111\">-</td>\\n<td align=\"RIGHT\" height=\"20\" width=\"111\">-</td>\\n<td align=\"RIGHT\" height=\"20\" width=\"111\">-</td>\\n</tr>\\n<tr>\\n<td align=\"CENTER\" height=\"50\" rowspan=\"2\" width=\"161\">주당 현금배당금(원)</td>\\n<td align=\"CENTER\" height=\"20\" width=\"113\">보통주</td>\\n<td align=\"RIGHT\" height=\"20\" width=\"111\">42,500</td>\\n<td align=\"RIGHT\" height=\"20\" width=\"111\">28,500</td>\\n<td align=\"RIGHT\" height=\"20\" width=\"111\">21,000</td>\\n</tr>\\n<tr>\\n<td align=\"CENTER\" height=\"20\" width=\"113\">우선주</td>\\n<td align=\"RIGHT\" height=\"20\" width=\"111\">42,550</td>\\n<td align=\"RIGHT\" height=\"20\" width=\"111\">28,550</td>\\n<td align=\"RIGHT\" height=\"20\" width=\"111\">21,050</td>\\n</tr>\\n<tr>\\n<td align=\"CENTER\" height=\"50\" rowspan=\"2\" width=\"161\">주당 주식배당(주)</td>\\n<td align=\"CENTER\" height=\"20\" width=\"113\">보통주</td>\\n<td align=\"RIGHT\" height=\"20\" width=\"111\">-</td>\\n<td align=\"RIGHT\" height=\"20\" width=\"111\">-</td>\\n<td align=\"RIGHT\" height=\"20\" width=\"111\">-</td>\\n</tr>\\n<tr>\\n<td align=\"CENTER\" height=\"20\" width=\"113\">우선주</td>\\n<td align=\"RIGHT\" height=\"20\" width=\"111\">-</td>\\n<td align=\"RIGHT\" height=\"20\" width=\"111\">-</td>\\n<td align=\"RIGHT\" height=\"20\" width=\"111\">-</td>\\n</tr>\\n</tbody>\\n</table>\\n<table class=\"nb\" width=\"629\">\\n<colgroup>\\n<col width=\"629\"/>\\n</colgroup>\\n<tbody>\\n<tr>\\n<td height=\"112\" valign=\"TOP\" width=\"629\"><span>※</span><span> </span><span>49기 3월 분기배당금은 972,373백만원(주당 7,000원), 6월 분기배당금은 965,348백만원<br/> \\xa0 \\xa0(주당 7,000원),</span><span> </span><span>9월 분기배당금은 </span><span>959,051</span><span>백만원(주당 7,000원)</span><span></span><span></span><span></span><span></span><span>입니다.</span><span><br/></span><span></span><span>※ 주당순이익은 보통주 기본주당 순이익입니다.<br/></span><span>※ 기본주당이익 산출근거는 \\'III. 재무에 관한 사항\\'의 \\'3. 연결재무제표 주석\\' 중 \\'주당이익\\' <br/> \\xa0 \\xa0항목을 참조하시기 바랍니다.</span><br/>\\n</td>\\n</tr>\\n</tbody>\\n</table>\\n<p><br/><br/><br/></p>\\n<p class=\"pgbrk\"></p>\\n<p><br/></p>\\n</body>\\n</html>'"
      ]
     },
     "execution_count": 34,
     "metadata": {},
     "output_type": "execute_result"
    }
   ],
   "source": [
    "crp_list = dart.get_crp_list()\n",
    "samsung_electronics = crp_list.find_by_name('삼성전자')[0]\n",
    "reports = samsung_electronics.search_report(start_dt='20160101')\n",
    "reports = reports.filter(bsn_tp='a001') # 연말보고서만 출력\n",
    "\n",
    "annual_report = reports[1] # 2019년 사업보고서\n",
    "annual_report.pages # 2019년 사업보고서 Page List 출력\n",
    "annual_report[10].html"
   ]
  },
  {
   "cell_type": "code",
   "execution_count": 35,
   "metadata": {},
   "outputs": [],
   "source": [
    "file=open('test4.html','w')\n",
    "\n",
    "file.write(str(annual_report[10].html))\n",
    "file.close()"
   ]
  },
  {
   "cell_type": "code",
   "execution_count": null,
   "metadata": {},
   "outputs": [],
   "source": []
  }
 ],
 "metadata": {
  "kernelspec": {
   "display_name": "venv",
   "language": "python",
   "name": "venv"
  },
  "language_info": {
   "codemirror_mode": {
    "name": "ipython",
    "version": 3
   },
   "file_extension": ".py",
   "mimetype": "text/x-python",
   "name": "python",
   "nbconvert_exporter": "python",
   "pygments_lexer": "ipython3",
   "version": "3.6.7"
  }
 },
 "nbformat": 4,
 "nbformat_minor": 2
}
