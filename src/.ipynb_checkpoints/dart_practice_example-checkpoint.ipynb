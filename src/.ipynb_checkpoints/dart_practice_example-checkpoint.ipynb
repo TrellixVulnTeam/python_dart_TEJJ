{
 "cells": [
  {
   "cell_type": "markdown",
   "metadata": {},
   "source": [
    "## __Font Setting__"
   ]
  },
  {
   "cell_type": "code",
   "execution_count": 1,
   "metadata": {},
   "outputs": [],
   "source": [
    "import matplotlib.font_manager as fm\n",
    "import matplotlib\n",
    "font_location='/usr/share/fonts/truetype/nanum/NanumGothicExtraBold.ttf'\n",
    "font_name=fm.FontProperties(fname=font_location).get_name()\n",
    "#print(font_name)\n",
    "matplotlib.rc('font', family=font_name)\n",
    "#matplotlib.matplotlib_fname()"
   ]
  },
  {
   "cell_type": "markdown",
   "metadata": {},
   "source": [
    "## DART API connect"
   ]
  },
  {
   "cell_type": "code",
   "execution_count": 2,
   "metadata": {},
   "outputs": [],
   "source": [
    "# -*- coding: utf-8 -*-\n",
    "import dart_fss as dart\n",
    "api_key='fcb0b5b6663759936ad3c7dbf488b1ead9459fd0'\n",
    "dart.dart_set_api_key(api_key)\n",
    "crp_list=dart.get_crp_list()\n",
    "samsung_electronics=crp_list.find_by_name('SK이노베이션')[0]"
   ]
  },
  {
   "cell_type": "markdown",
   "metadata": {},
   "source": [
    "## Download Reports from DART"
   ]
  },
  {
   "cell_type": "code",
   "execution_count": 3,
   "metadata": {},
   "outputs": [],
   "source": [
    "#fs_annual = samsung_electronics.get_financial_statement(start_dt='20180101', report_tp='quarter')"
   ]
  },
  {
   "cell_type": "code",
   "execution_count": 4,
   "metadata": {},
   "outputs": [],
   "source": [
    "#print(fs_annual)"
   ]
  },
  {
   "cell_type": "code",
   "execution_count": 5,
   "metadata": {},
   "outputs": [
    {
     "name": "stderr",
     "output_type": "stream",
     "text": [
      "Download: 34.0KB [00:00, 187KB/s]\n",
      "Extracting is-annual: 100%|██████████| 13/13 [00:17<00:00,  1.51s/page]\n"
     ]
    }
   ],
   "source": [
    "is_annual = samsung_electronics.get_financial_statement(start_dt='20080101', fs_tp='is')"
   ]
  },
  {
   "cell_type": "code",
   "execution_count": 6,
   "metadata": {},
   "outputs": [],
   "source": [
    "#display(is_annual)"
   ]
  },
  {
   "cell_type": "code",
   "execution_count": 7,
   "metadata": {},
   "outputs": [
    {
     "data": {
      "text/plain": [
       "0                                    매출액\n",
       "1                                   매출원가\n",
       "2                                  매출총이익\n",
       "3                                판매비와관리비\n",
       "4                               영업이익(손실)\n",
       "5                   금융수익-유효이자율법에 따른 이자수익\n",
       "6                                금융수익-기타\n",
       "7                                   금융수익\n",
       "8                                   금융원가\n",
       "9                                  지분법손익\n",
       "10                               기타영업외수익\n",
       "11                               기타영업외비용\n",
       "12                       법인세비용차감전순이익(손실)\n",
       "13                       계속영업손익법인세비용(효익)\n",
       "14                            계속영업이익(손실)\n",
       "15                            중단영업이익(손실)\n",
       "16                           연결당기순이익(손실)\n",
       "17                             지배기업소유주지분\n",
       "18                                 비지배지분\n",
       "19                              연결기타포괄손익\n",
       "20               후속적으로 당기손익으로 재분류되지 않는항목\n",
       "21                 기타포괄손익-공정가치측정금융자산평가손익\n",
       "22                         확정급여제도의 재측정요소\n",
       "23                              해외사업환산손익\n",
       "24             후속적으로 당기손익으로 재분류될 수 있는 항목\n",
       "25    기타포괄손익-공정가치 측정 금융자산 평가손익(세후기타포괄손익)\n",
       "26                            매도가능증권평가손익\n",
       "27                               지분법자본변동\n",
       "28                              해외사업환산손익\n",
       "29                   현금흐름위험회피 파생금융상품평가손익\n",
       "30                             연결당기총포괄이익\n",
       "31                            지배기업 소유주지분\n",
       "32                                 비지배지분\n",
       "33                         보통주기본주당이익(손실)\n",
       "34                           구형우선주기본주당이익\n",
       "35                         보통주기본주당계속영업이익\n",
       "36                       구형우선주기본주당계속영업이익\n",
       "Name: label_ko, dtype: object"
      ]
     },
     "metadata": {},
     "output_type": "display_data"
    }
   ],
   "source": [
    "display(is_annual[:]['label_ko'])"
   ]
  },
  {
   "cell_type": "markdown",
   "metadata": {},
   "source": [
    "## Get '영업손실' Index"
   ]
  },
  {
   "cell_type": "code",
   "execution_count": 8,
   "metadata": {},
   "outputs": [],
   "source": [
    "check_table=is_annual[:]['label_ko']=='연결당기순이익(손실)'\n",
    "index=check_table[check_table].index[0]"
   ]
  },
  {
   "cell_type": "markdown",
   "metadata": {},
   "source": [
    "## Get Years' Value Stored Location"
   ]
  },
  {
   "cell_type": "code",
   "execution_count": 9,
   "metadata": {},
   "outputs": [],
   "source": [
    "column_index=0\n",
    "for column in is_annual.columns:\n",
    "    if column.startswith('['):\n",
    "        break\n",
    "    column_index=column_index+1"
   ]
  },
  {
   "cell_type": "markdown",
   "metadata": {},
   "source": [
    "## Get Area Interested in"
   ]
  },
  {
   "cell_type": "code",
   "execution_count": 10,
   "metadata": {},
   "outputs": [],
   "source": [
    "is_annual_modi=is_annual.iloc[index][column_index:]"
   ]
  },
  {
   "cell_type": "markdown",
   "metadata": {},
   "source": [
    "## Unit Change from '원' to '조'"
   ]
  },
  {
   "cell_type": "code",
   "execution_count": 11,
   "metadata": {},
   "outputs": [],
   "source": [
    "is_annual_modi=is_annual_modi[:]/1000000000000"
   ]
  },
  {
   "cell_type": "markdown",
   "metadata": {},
   "source": [
    "## Draw Graph"
   ]
  },
  {
   "cell_type": "code",
   "execution_count": 13,
   "metadata": {},
   "outputs": [
    {
     "data": {
      "text/plain": [
       "([0, 1, 2, 3, 4, 5, 6, 7, 8, 9, 10, 11],\n",
       " <a list of 12 Text xticklabel objects>)"
      ]
     },
     "execution_count": 13,
     "metadata": {},
     "output_type": "execute_result"
    },
    {
     "data": {
      "image/png": "[encoded data removed]",
      "text/plain": [
       "<Figure size 1080x720 with 1 Axes>"
      ]
     },
     "metadata": {
      "needs_background": "light"
     },
     "output_type": "display_data"
    }
   ],
   "source": [
    "import matplotlib.pyplot as plt\n",
    "plt.figure(figsize=(15,10))\n",
    "plt.plot(is_annual_modi)\n",
    "plt.xlabel('년도')\n",
    "plt.ylabel('조')\n",
    "plt.grid(True)\n",
    "plt.xticks(size=5)\n",
    "\n",
    "#is_annual_modi.plot(kind='line', title='test',figsize=(15,10) )"
   ]
  },
  {
   "cell_type": "code",
   "execution_count": null,
   "metadata": {},
   "outputs": [],
   "source": []
  },
  {
   "cell_type": "code",
   "execution_count": null,
   "metadata": {},
   "outputs": [],
   "source": []
  }
 ],
 "metadata": {
  "kernelspec": {
   "display_name": "venv",
   "language": "python",
   "name": "venv"
  },
  "language_info": {
   "codemirror_mode": {
    "name": "ipython",
    "version": 3
   },
   "file_extension": ".py",
   "mimetype": "text/x-python",
   "name": "python",
   "nbconvert_exporter": "python",
   "pygments_lexer": "ipython3",
   "version": "3.6.7"
  }
 },
 "nbformat": 4,
 "nbformat_minor": 2
}
