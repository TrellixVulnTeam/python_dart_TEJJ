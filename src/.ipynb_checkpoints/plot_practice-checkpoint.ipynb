{
 "cells": [
  {
   "cell_type": "code",
   "execution_count": 1,
   "metadata": {},
   "outputs": [],
   "source": [
    "# -*- coding: utf-8 -*-\n",
    "\n",
    "from stock_plotting_tool import stock_plotting_tool as plot_tool\n",
    "\n",
    "file_name='/annual_report_2019/10_II.사업의내용.html'\n",
    "test=plot_tool(file_name,'금액')"
   ]
  },
  {
   "cell_type": "code",
   "execution_count": 6,
   "metadata": {},
   "outputs": [],
   "source": [
    "dataframe=test.load_table('영업이익')"
   ]
  },
  {
   "cell_type": "code",
   "execution_count": 7,
   "metadata": {},
   "outputs": [],
   "source": [
    "dataframe_modi=test.refine_loaded_table(dataframe)"
   ]
  },
  {
   "cell_type": "code",
   "execution_count": 8,
   "metadata": {},
   "outputs": [
    {
     "data": {
      "text/plain": [
       "<matplotlib.axes._subplots.AxesSubplot at 0x7ff92c03bc88>"
      ]
     },
     "execution_count": 8,
     "metadata": {},
     "output_type": "execute_result"
    },
    {
     "data": {
      "image/png": "[encoded data removed]",
      "text/plain": [
       "<Figure size 432x288 with 1 Axes>"
      ]
     },
     "metadata": {
      "needs_background": "light"
     },
     "output_type": "display_data"
    }
   ],
   "source": [
    "dataframe_modi.plot(x='부문 - 부문.1', kind='bar')"
   ]
  },
  {
   "cell_type": "code",
   "execution_count": null,
   "metadata": {},
   "outputs": [],
   "source": [
    "dataframe_modi_column_removed=dataframe_modi.drop(['DS부문 - 반도체','DS부문 - DP'])"
   ]
  },
  {
   "cell_type": "code",
   "execution_count": 10,
   "metadata": {},
   "outputs": [
    {
     "data": {
      "text/html": [
       "<div>\n",
       "<style scoped>\n",
       "    .dataframe tbody tr th:only-of-type {\n",
       "        vertical-align: middle;\n",
       "    }\n",
       "\n",
       "    .dataframe tbody tr th {\n",
       "        vertical-align: top;\n",
       "    }\n",
       "\n",
       "    .dataframe thead th {\n",
       "        text-align: right;\n",
       "    }\n",
       "</style>\n",
       "<table border=\"1\" class=\"dataframe\">\n",
       "  <thead>\n",
       "    <tr style=\"text-align: right;\">\n",
       "      <th></th>\n",
       "      <th>부문 - 부문.1</th>\n",
       "      <th>제50기</th>\n",
       "      <th>제49기</th>\n",
       "      <th>제48기</th>\n",
       "    </tr>\n",
       "  </thead>\n",
       "  <tbody>\n",
       "    <tr>\n",
       "      <th>0</th>\n",
       "      <td>CE부문 - CE부문</td>\n",
       "      <td>0.019075</td>\n",
       "      <td>0.019046</td>\n",
       "      <td>0.064370</td>\n",
       "    </tr>\n",
       "    <tr>\n",
       "      <th>1</th>\n",
       "      <td>IM부문 - IM부문</td>\n",
       "      <td>0.095902</td>\n",
       "      <td>0.125002</td>\n",
       "      <td>0.238038</td>\n",
       "    </tr>\n",
       "    <tr>\n",
       "      <th>2</th>\n",
       "      <td>DS부문 - 반도체</td>\n",
       "      <td>0.420243</td>\n",
       "      <td>0.372069</td>\n",
       "      <td>0.299431</td>\n",
       "    </tr>\n",
       "    <tr>\n",
       "      <th>3</th>\n",
       "      <td>DS부문 - DP</td>\n",
       "      <td>0.024699</td>\n",
       "      <td>0.057055</td>\n",
       "      <td>0.049042</td>\n",
       "    </tr>\n",
       "    <tr>\n",
       "      <th>4</th>\n",
       "      <td>DS부문 - 계</td>\n",
       "      <td>0.438557</td>\n",
       "      <td>0.426222</td>\n",
       "      <td>0.349120</td>\n",
       "    </tr>\n",
       "    <tr>\n",
       "      <th>5</th>\n",
       "      <td>Harman 부문 - Harman 부문</td>\n",
       "      <td>0.001525</td>\n",
       "      <td>0.000607</td>\n",
       "      <td>0.000000</td>\n",
       "    </tr>\n",
       "  </tbody>\n",
       "</table>\n",
       "</div>"
      ],
      "text/plain": [
       "               부문 - 부문.1      제50기      제49기      제48기\n",
       "0            CE부문 - CE부문  0.019075  0.019046  0.064370\n",
       "1            IM부문 - IM부문  0.095902  0.125002  0.238038\n",
       "2             DS부문 - 반도체  0.420243  0.372069  0.299431\n",
       "3              DS부문 - DP  0.024699  0.057055  0.049042\n",
       "4               DS부문 - 계  0.438557  0.426222  0.349120\n",
       "5  Harman 부문 - Harman 부문  0.001525  0.000607  0.000000"
      ]
     },
     "execution_count": 10,
     "metadata": {},
     "output_type": "execute_result"
    }
   ],
   "source": [
    "dataframe_portion=test.portion_get(dataframe_modi_column_removed)\n",
    "dataframe_portion\n",
    "#dataframe_portion.plot(x='부문 - 부문.1', kind='bar')"
   ]
  },
  {
   "cell_type": "code",
   "execution_count": null,
   "metadata": {},
   "outputs": [],
   "source": []
  }
 ],
 "metadata": {
  "kernelspec": {
   "display_name": "venv",
   "language": "python",
   "name": "venv"
  },
  "language_info": {
   "codemirror_mode": {
    "name": "ipython",
    "version": 3
   },
   "file_extension": ".py",
   "mimetype": "text/x-python",
   "name": "python",
   "nbconvert_exporter": "python",
   "pygments_lexer": "ipython3",
   "version": "3.6.7"
  }
 },
 "nbformat": 4,
 "nbformat_minor": 2
}
