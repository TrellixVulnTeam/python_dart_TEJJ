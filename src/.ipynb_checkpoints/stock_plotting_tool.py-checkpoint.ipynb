{
 "cells": [
  {
   "cell_type": "code",
   "execution_count": 1,
   "metadata": {},
   "outputs": [],
   "source": [
    "# -*- coding: utf-8 -*-\n",
    "\n",
    "## import necessary module\n",
    "import pandas as pd\n",
    "import numpy as np\n",
    "import subprocess as sp\n",
    "\n",
    "#class start\n",
    "class stock_plotting_tool:\n",
    "    def __init__(self, directory, plot_keyword):\n",
    "        self.str_dir=directory\n",
    "        self.target_search_keyword=plot_keyword\n",
    "        ##due to null character, excludes the last character\n",
    "        self.current_directory=sp.check_output('pwd').decode('utf-8')[:-1]\n",
    "        self.target_file=self.current_directory+self.str_dir\n",
    "    \n",
    "    def load_table(self):\n",
    "        #read html file and conver to dataframe\n",
    "        html=pd.read_html(self.target_file, '총매출액')\n",
    "        org_dataframe=html[0]\n",
    "        \n",
    "        #pick '순매출액' from the table\n",
    "        table_get=(org_dataframe['구 분']=='순매출액')\n",
    "        # '순매출액' to '영업이익'\n",
    "        org_dataframe=org_dataframe[table_get['구 분']]\n",
    "        return org_dataframe\n",
    "    \n",
    "    def refine_loaded_table(self, dataframe):\n",
    "        #category column extract\n",
    "        target_name_column_join='부문'\n",
    "        target_name_first_column=dataframe[target_name_column_join].columns[0]\n",
    "        target_name_second_column=dataframe[target_name_column_join].columns[1]\n",
    "        result_name_column_join= target_name_first_column+' - '+ target_name_second_column\n",
    "        list_category=[]\n",
    "        dataframe_for_target_column=pd.DataFrame()\n",
    "        size_indice=dataframe.index.size\n",
    "        \n",
    "        for index in range(size_indice):\n",
    "            string=dataframe[target_name_column_join][target_name_first_column].iloc[index]+' - ' +dataframe[target_name_column_join][target_name_second_column].iloc[index]\n",
    "            list_category.append(string)\n",
    "        dataframe_for_target_column[result_name_column_join]=list_category\n",
    "        #############\n",
    "        \n",
    "        ## period column start index get\n",
    "        index_column=0\n",
    "        for i in dataframe.columns:\n",
    "            #print(i)\n",
    "            if i[0] == '구 분':\n",
    "                refer_column=index_column\n",
    "                start_column = refer_column + 1\n",
    "                break\n",
    "            index_column=index_column +1\n",
    "        ##################\n",
    "        \n",
    "        ## set creation for storing target periods\n",
    "        set_periods=set()\n",
    "        for top_column_cate in dataframe.iloc[:,start_column:]:\n",
    "            set_periods.add(top_column_cate[0])\n",
    "        set_periods_sorted=sorted(set_periods, reverse=True)\n",
    "        ###################\n",
    "        \n",
    "        ######## dataframe for info in periods' table\n",
    "        temp_df=pd.DataFrame()\n",
    "        for period in set_periods_sorted:\n",
    "            temp_df[period]=dataframe.iloc[:,start_column:-1][period][self.target_search_keyword]\n",
    "            #print(temp_df[period])\n",
    "            temp_df[period]=temp_df[period].replace('-','0')\n",
    "            temp_df[period]=pd.to_numeric(temp_df[period])\n",
    "        \n",
    "        ######################\n",
    "        \n",
    "        ## check temp df created\n",
    "        temp_df.reset_index(inplace=True)\n",
    "        temp_df=temp_df.drop(columns=['index'])\n",
    "        #########\n",
    "        \n",
    "        ###dataframe merge\n",
    "        new_df=pd.merge(dataframe_for_target_column,temp_df,how='outer', left_index=True, right_index= True)\n",
    "        #############\n",
    "        return new_df\n",
    "    \n",
    "    def portion_get(self, dataframe):\n",
    "        total=dataframe.iloc[:,1:].sum(axis=0)\n",
    "        new_df=pd.DataFrame()\n",
    "        firstcolumn=dataframe.columns[0]\n",
    "        new_df[firstcolumn]=dataframe[firstcolumn]\n",
    "        for i in dataframe.iloc[:,1:].columns:\n",
    "            new_df[i]=dataframe[i]/total[i]\n",
    "        return new_df\n"
   ]
  },
  {
   "cell_type": "code",
   "execution_count": 2,
   "metadata": {},
   "outputs": [],
   "source": [
    "# -*- coding: utf-8 -*-"
   ]
  },
  {
   "cell_type": "code",
   "execution_count": 3,
   "metadata": {},
   "outputs": [],
   "source": [
    "string='/annual_report_2019/10_II.사업의내용.html'"
   ]
  },
  {
   "cell_type": "code",
   "execution_count": 4,
   "metadata": {},
   "outputs": [],
   "source": [
    "absolute=stock_plotting_tool(string,'금액')\n",
    "portion=stock_plotting_tool(string,'비중')"
   ]
  },
  {
   "cell_type": "code",
   "execution_count": 5,
   "metadata": {},
   "outputs": [
    {
     "data": {
      "text/plain": [
       "'/home/se_heon/dart_project/src/annual_report_2019/10_II.사업의내용.html'"
      ]
     },
     "execution_count": 5,
     "metadata": {},
     "output_type": "execute_result"
    }
   ],
   "source": [
    "absolute.target_file"
   ]
  },
  {
   "cell_type": "code",
   "execution_count": 6,
   "metadata": {},
   "outputs": [
    {
     "data": {
      "text/html": [
       "<div>\n",
       "<style scoped>\n",
       "    .dataframe tbody tr th:only-of-type {\n",
       "        vertical-align: middle;\n",
       "    }\n",
       "\n",
       "    .dataframe tbody tr th {\n",
       "        vertical-align: top;\n",
       "    }\n",
       "\n",
       "    .dataframe thead tr th {\n",
       "        text-align: left;\n",
       "    }\n",
       "</style>\n",
       "<table border=\"1\" class=\"dataframe\">\n",
       "  <thead>\n",
       "    <tr>\n",
       "      <th></th>\n",
       "      <th colspan=\"2\" halign=\"left\">부문</th>\n",
       "      <th>구 분</th>\n",
       "      <th colspan=\"2\" halign=\"left\">제50기</th>\n",
       "      <th colspan=\"2\" halign=\"left\">제49기</th>\n",
       "      <th colspan=\"2\" halign=\"left\">제48기</th>\n",
       "    </tr>\n",
       "    <tr>\n",
       "      <th></th>\n",
       "      <th>부문</th>\n",
       "      <th>부문.1</th>\n",
       "      <th>구 분</th>\n",
       "      <th>금액</th>\n",
       "      <th>비중</th>\n",
       "      <th>금액</th>\n",
       "      <th>비중</th>\n",
       "      <th>금액</th>\n",
       "      <th>비중</th>\n",
       "    </tr>\n",
       "  </thead>\n",
       "  <tbody>\n",
       "    <tr>\n",
       "      <th>2</th>\n",
       "      <td>CE부문</td>\n",
       "      <td>CE부문</td>\n",
       "      <td>순매출액</td>\n",
       "      <td>42107405</td>\n",
       "      <td>17.3%</td>\n",
       "      <td>44601347</td>\n",
       "      <td>18.6%</td>\n",
       "      <td>44680255</td>\n",
       "      <td>22.1%</td>\n",
       "    </tr>\n",
       "    <tr>\n",
       "      <th>7</th>\n",
       "      <td>IM부문</td>\n",
       "      <td>IM부문</td>\n",
       "      <td>순매출액</td>\n",
       "      <td>100677677</td>\n",
       "      <td>41.3%</td>\n",
       "      <td>106668318</td>\n",
       "      <td>44.5%</td>\n",
       "      <td>100302112</td>\n",
       "      <td>49.7%</td>\n",
       "    </tr>\n",
       "    <tr>\n",
       "      <th>12</th>\n",
       "      <td>DS부문</td>\n",
       "      <td>반도체</td>\n",
       "      <td>순매출액</td>\n",
       "      <td>86290962</td>\n",
       "      <td>35.4%</td>\n",
       "      <td>74255595</td>\n",
       "      <td>31.0%</td>\n",
       "      <td>51157002</td>\n",
       "      <td>25.3%</td>\n",
       "    </tr>\n",
       "    <tr>\n",
       "      <th>17</th>\n",
       "      <td>DS부문</td>\n",
       "      <td>DP</td>\n",
       "      <td>순매출액</td>\n",
       "      <td>32465019</td>\n",
       "      <td>13.3%</td>\n",
       "      <td>34465363</td>\n",
       "      <td>14.4%</td>\n",
       "      <td>26928644</td>\n",
       "      <td>13.3%</td>\n",
       "    </tr>\n",
       "    <tr>\n",
       "      <th>22</th>\n",
       "      <td>DS부문</td>\n",
       "      <td>계</td>\n",
       "      <td>순매출액</td>\n",
       "      <td>118565559</td>\n",
       "      <td>48.6%</td>\n",
       "      <td>108167480</td>\n",
       "      <td>45.1%</td>\n",
       "      <td>78148203</td>\n",
       "      <td>38.7%</td>\n",
       "    </tr>\n",
       "    <tr>\n",
       "      <th>27</th>\n",
       "      <td>Harman 부문</td>\n",
       "      <td>Harman 부문</td>\n",
       "      <td>순매출액</td>\n",
       "      <td>8843739</td>\n",
       "      <td>3.6%</td>\n",
       "      <td>7102629</td>\n",
       "      <td>3.0%</td>\n",
       "      <td>-</td>\n",
       "      <td>-</td>\n",
       "    </tr>\n",
       "  </tbody>\n",
       "</table>\n",
       "</div>"
      ],
      "text/plain": [
       "           부문              구 분       제50기              제49기              제48기  \\\n",
       "           부문       부문.1   구 분         금액     비중         금액     비중         금액   \n",
       "2        CE부문       CE부문  순매출액   42107405  17.3%   44601347  18.6%   44680255   \n",
       "7        IM부문       IM부문  순매출액  100677677  41.3%  106668318  44.5%  100302112   \n",
       "12       DS부문        반도체  순매출액   86290962  35.4%   74255595  31.0%   51157002   \n",
       "17       DS부문         DP  순매출액   32465019  13.3%   34465363  14.4%   26928644   \n",
       "22       DS부문          계  순매출액  118565559  48.6%  108167480  45.1%   78148203   \n",
       "27  Harman 부문  Harman 부문  순매출액    8843739   3.6%    7102629   3.0%          -   \n",
       "\n",
       "           \n",
       "       비중  \n",
       "2   22.1%  \n",
       "7   49.7%  \n",
       "12  25.3%  \n",
       "17  13.3%  \n",
       "22  38.7%  \n",
       "27      -  "
      ]
     },
     "execution_count": 6,
     "metadata": {},
     "output_type": "execute_result"
    }
   ],
   "source": [
    "dataframe=absolute.load_table()\n",
    "dataframe_portion=portion.load_table()\n",
    "dataframe_portion"
   ]
  },
  {
   "cell_type": "code",
   "execution_count": 7,
   "metadata": {},
   "outputs": [],
   "source": [
    "result=absolute.refine_loaded_table(dataframe)"
   ]
  },
  {
   "cell_type": "code",
   "execution_count": 8,
   "metadata": {},
   "outputs": [
    {
     "data": {
      "text/html": [
       "<div>\n",
       "<style scoped>\n",
       "    .dataframe tbody tr th:only-of-type {\n",
       "        vertical-align: middle;\n",
       "    }\n",
       "\n",
       "    .dataframe tbody tr th {\n",
       "        vertical-align: top;\n",
       "    }\n",
       "\n",
       "    .dataframe thead th {\n",
       "        text-align: right;\n",
       "    }\n",
       "</style>\n",
       "<table border=\"1\" class=\"dataframe\">\n",
       "  <thead>\n",
       "    <tr style=\"text-align: right;\">\n",
       "      <th></th>\n",
       "      <th>부문 - 부문.1</th>\n",
       "      <th>제50기</th>\n",
       "      <th>제49기</th>\n",
       "      <th>제48기</th>\n",
       "    </tr>\n",
       "  </thead>\n",
       "  <tbody>\n",
       "    <tr>\n",
       "      <th>0</th>\n",
       "      <td>CE부문 - CE부문</td>\n",
       "      <td>42107405</td>\n",
       "      <td>44601347</td>\n",
       "      <td>44680255</td>\n",
       "    </tr>\n",
       "    <tr>\n",
       "      <th>1</th>\n",
       "      <td>IM부문 - IM부문</td>\n",
       "      <td>100677677</td>\n",
       "      <td>106668318</td>\n",
       "      <td>100302112</td>\n",
       "    </tr>\n",
       "    <tr>\n",
       "      <th>2</th>\n",
       "      <td>DS부문 - 반도체</td>\n",
       "      <td>86290962</td>\n",
       "      <td>74255595</td>\n",
       "      <td>51157002</td>\n",
       "    </tr>\n",
       "    <tr>\n",
       "      <th>3</th>\n",
       "      <td>DS부문 - DP</td>\n",
       "      <td>32465019</td>\n",
       "      <td>34465363</td>\n",
       "      <td>26928644</td>\n",
       "    </tr>\n",
       "    <tr>\n",
       "      <th>4</th>\n",
       "      <td>DS부문 - 계</td>\n",
       "      <td>118565559</td>\n",
       "      <td>108167480</td>\n",
       "      <td>78148203</td>\n",
       "    </tr>\n",
       "    <tr>\n",
       "      <th>5</th>\n",
       "      <td>Harman 부문 - Harman 부문</td>\n",
       "      <td>8843739</td>\n",
       "      <td>7102629</td>\n",
       "      <td>0</td>\n",
       "    </tr>\n",
       "  </tbody>\n",
       "</table>\n",
       "</div>"
      ],
      "text/plain": [
       "               부문 - 부문.1       제50기       제49기       제48기\n",
       "0            CE부문 - CE부문   42107405   44601347   44680255\n",
       "1            IM부문 - IM부문  100677677  106668318  100302112\n",
       "2             DS부문 - 반도체   86290962   74255595   51157002\n",
       "3              DS부문 - DP   32465019   34465363   26928644\n",
       "4               DS부문 - 계  118565559  108167480   78148203\n",
       "5  Harman 부문 - Harman 부문    8843739    7102629          0"
      ]
     },
     "execution_count": 8,
     "metadata": {},
     "output_type": "execute_result"
    }
   ],
   "source": [
    "result"
   ]
  },
  {
   "cell_type": "code",
   "execution_count": 9,
   "metadata": {},
   "outputs": [
    {
     "data": {
      "text/plain": [
       "4"
      ]
     },
     "execution_count": 9,
     "metadata": {},
     "output_type": "execute_result"
    }
   ],
   "source": [
    "result.columns.size"
   ]
  },
  {
   "cell_type": "code",
   "execution_count": 10,
   "metadata": {},
   "outputs": [
    {
     "data": {
      "text/plain": [
       "제50기    388950361\n",
       "제49기    375260732\n",
       "제48기    301216216\n",
       "dtype: int64"
      ]
     },
     "execution_count": 10,
     "metadata": {},
     "output_type": "execute_result"
    }
   ],
   "source": [
    "result.iloc[:,1:].sum(axis=0)"
   ]
  },
  {
   "cell_type": "code",
   "execution_count": null,
   "metadata": {},
   "outputs": [],
   "source": []
  },
  {
   "cell_type": "code",
   "execution_count": 11,
   "metadata": {},
   "outputs": [],
   "source": [
    "def portion_get(dataframe):\n",
    "    total=dataframe.iloc[:,1:].sum(axis=0)\n",
    "    new_df=pd.DataFrame()\n",
    "    firstcolumn=dataframe.columns[0]\n",
    "    new_df[firstcolumn]=dataframe[firstcolumn]\n",
    "    for i in dataframe.iloc[:,1:].columns:\n",
    "        new_df[i]=dataframe[i]/total[i]\n",
    "        \n",
    "    return new_df\n",
    "    "
   ]
  },
  {
   "cell_type": "code",
   "execution_count": 12,
   "metadata": {},
   "outputs": [],
   "source": [
    "result_portion=portion_get(result)"
   ]
  },
  {
   "cell_type": "code",
   "execution_count": 13,
   "metadata": {},
   "outputs": [
    {
     "data": {
      "text/html": [
       "<div>\n",
       "<style scoped>\n",
       "    .dataframe tbody tr th:only-of-type {\n",
       "        vertical-align: middle;\n",
       "    }\n",
       "\n",
       "    .dataframe tbody tr th {\n",
       "        vertical-align: top;\n",
       "    }\n",
       "\n",
       "    .dataframe thead th {\n",
       "        text-align: right;\n",
       "    }\n",
       "</style>\n",
       "<table border=\"1\" class=\"dataframe\">\n",
       "  <thead>\n",
       "    <tr style=\"text-align: right;\">\n",
       "      <th></th>\n",
       "      <th>부문 - 부문.1</th>\n",
       "      <th>제50기</th>\n",
       "      <th>제49기</th>\n",
       "      <th>제48기</th>\n",
       "    </tr>\n",
       "  </thead>\n",
       "  <tbody>\n",
       "    <tr>\n",
       "      <th>0</th>\n",
       "      <td>CE부문 - CE부문</td>\n",
       "      <td>0.108259</td>\n",
       "      <td>0.118854</td>\n",
       "      <td>0.148333</td>\n",
       "    </tr>\n",
       "    <tr>\n",
       "      <th>1</th>\n",
       "      <td>IM부문 - IM부문</td>\n",
       "      <td>0.258845</td>\n",
       "      <td>0.284251</td>\n",
       "      <td>0.332990</td>\n",
       "    </tr>\n",
       "    <tr>\n",
       "      <th>2</th>\n",
       "      <td>DS부문 - 반도체</td>\n",
       "      <td>0.221856</td>\n",
       "      <td>0.197877</td>\n",
       "      <td>0.169835</td>\n",
       "    </tr>\n",
       "    <tr>\n",
       "      <th>3</th>\n",
       "      <td>DS부문 - DP</td>\n",
       "      <td>0.083468</td>\n",
       "      <td>0.091844</td>\n",
       "      <td>0.089400</td>\n",
       "    </tr>\n",
       "    <tr>\n",
       "      <th>4</th>\n",
       "      <td>DS부문 - 계</td>\n",
       "      <td>0.304835</td>\n",
       "      <td>0.288246</td>\n",
       "      <td>0.259442</td>\n",
       "    </tr>\n",
       "    <tr>\n",
       "      <th>5</th>\n",
       "      <td>Harman 부문 - Harman 부문</td>\n",
       "      <td>0.022737</td>\n",
       "      <td>0.018927</td>\n",
       "      <td>0.000000</td>\n",
       "    </tr>\n",
       "  </tbody>\n",
       "</table>\n",
       "</div>"
      ],
      "text/plain": [
       "               부문 - 부문.1      제50기      제49기      제48기\n",
       "0            CE부문 - CE부문  0.108259  0.118854  0.148333\n",
       "1            IM부문 - IM부문  0.258845  0.284251  0.332990\n",
       "2             DS부문 - 반도체  0.221856  0.197877  0.169835\n",
       "3              DS부문 - DP  0.083468  0.091844  0.089400\n",
       "4               DS부문 - 계  0.304835  0.288246  0.259442\n",
       "5  Harman 부문 - Harman 부문  0.022737  0.018927  0.000000"
      ]
     },
     "execution_count": 13,
     "metadata": {},
     "output_type": "execute_result"
    }
   ],
   "source": [
    "result_portion"
   ]
  },
  {
   "cell_type": "code",
   "execution_count": 15,
   "metadata": {},
   "outputs": [
    {
     "data": {
      "text/plain": [
       "<matplotlib.axes._subplots.AxesSubplot at 0x7f7fef20dfd0>"
      ]
     },
     "execution_count": 15,
     "metadata": {},
     "output_type": "execute_result"
    },
    {
     "data": {
      "image/png": "[encoded data removed]",
      "text/plain": [
       "<Figure size 432x288 with 1 Axes>"
      ]
     },
     "metadata": {
      "needs_background": "light"
     },
     "output_type": "display_data"
    }
   ],
   "source": [
    "result_portion.plot(x='부문 - 부문.1')"
   ]
  },
  {
   "cell_type": "code",
   "execution_count": null,
   "metadata": {},
   "outputs": [],
   "source": []
  }
 ],
 "metadata": {
  "kernelspec": {
   "display_name": "Python 3",
   "language": "python",
   "name": "python3"
  },
  "language_info": {
   "codemirror_mode": {
    "name": "ipython",
    "version": 3
   },
   "file_extension": ".py",
   "mimetype": "text/x-python",
   "name": "python",
   "nbconvert_exporter": "python",
   "pygments_lexer": "ipython3",
   "version": "3.6.7"
  }
 },
 "nbformat": 4,
 "nbformat_minor": 2
}
